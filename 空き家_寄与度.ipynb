{
  "nbformat": 4,
  "nbformat_minor": 0,
  "metadata": {
    "colab": {
      "provenance": []
    },
    "kernelspec": {
      "name": "python3",
      "display_name": "Python 3"
    },
    "language_info": {
      "name": "python"
    }
  },
  "cells": [
    {
      "cell_type": "markdown",
      "source": [
        "空き家のデータを分析した際の寄与度をグラフ化し、分析する"
      ],
      "metadata": {
        "id": "5DhiENXmF4pF"
      }
    },
    {
      "cell_type": "code",
      "source": [
        "!pip install japanize_matplotlib"
      ],
      "metadata": {
        "colab": {
          "base_uri": "https://localhost:8080/"
        },
        "id": "5eAqrRUkKRWX",
        "outputId": "2620ccb2-5631-4350-f64a-982ecd2bf9b3"
      },
      "execution_count": 15,
      "outputs": [
        {
          "output_type": "stream",
          "name": "stdout",
          "text": [
            "Looking in indexes: https://pypi.org/simple, https://us-python.pkg.dev/colab-wheels/public/simple/\n",
            "Collecting japanize_matplotlib\n",
            "  Downloading japanize-matplotlib-1.1.3.tar.gz (4.1 MB)\n",
            "\u001b[2K     \u001b[90m━━━━━━━━━━━━━━━━━━━━━━━━━━━━━━━━━━━━━━━━\u001b[0m \u001b[32m4.1/4.1 MB\u001b[0m \u001b[31m31.3 MB/s\u001b[0m eta \u001b[36m0:00:00\u001b[0m\n",
            "\u001b[?25h  Preparing metadata (setup.py) ... \u001b[?25l\u001b[?25hdone\n",
            "Requirement already satisfied: matplotlib in /usr/local/lib/python3.9/dist-packages (from japanize_matplotlib) (3.7.1)\n",
            "Requirement already satisfied: numpy>=1.20 in /usr/local/lib/python3.9/dist-packages (from matplotlib->japanize_matplotlib) (1.22.4)\n",
            "Requirement already satisfied: kiwisolver>=1.0.1 in /usr/local/lib/python3.9/dist-packages (from matplotlib->japanize_matplotlib) (1.4.4)\n",
            "Requirement already satisfied: cycler>=0.10 in /usr/local/lib/python3.9/dist-packages (from matplotlib->japanize_matplotlib) (0.11.0)\n",
            "Requirement already satisfied: packaging>=20.0 in /usr/local/lib/python3.9/dist-packages (from matplotlib->japanize_matplotlib) (23.0)\n",
            "Requirement already satisfied: contourpy>=1.0.1 in /usr/local/lib/python3.9/dist-packages (from matplotlib->japanize_matplotlib) (1.0.7)\n",
            "Requirement already satisfied: pillow>=6.2.0 in /usr/local/lib/python3.9/dist-packages (from matplotlib->japanize_matplotlib) (8.4.0)\n",
            "Requirement already satisfied: pyparsing>=2.3.1 in /usr/local/lib/python3.9/dist-packages (from matplotlib->japanize_matplotlib) (3.0.9)\n",
            "Requirement already satisfied: python-dateutil>=2.7 in /usr/local/lib/python3.9/dist-packages (from matplotlib->japanize_matplotlib) (2.8.2)\n",
            "Requirement already satisfied: importlib-resources>=3.2.0 in /usr/local/lib/python3.9/dist-packages (from matplotlib->japanize_matplotlib) (5.12.0)\n",
            "Requirement already satisfied: fonttools>=4.22.0 in /usr/local/lib/python3.9/dist-packages (from matplotlib->japanize_matplotlib) (4.39.3)\n",
            "Requirement already satisfied: zipp>=3.1.0 in /usr/local/lib/python3.9/dist-packages (from importlib-resources>=3.2.0->matplotlib->japanize_matplotlib) (3.15.0)\n",
            "Requirement already satisfied: six>=1.5 in /usr/local/lib/python3.9/dist-packages (from python-dateutil>=2.7->matplotlib->japanize_matplotlib) (1.16.0)\n",
            "Building wheels for collected packages: japanize_matplotlib\n",
            "  Building wheel for japanize_matplotlib (setup.py) ... \u001b[?25l\u001b[?25hdone\n",
            "  Created wheel for japanize_matplotlib: filename=japanize_matplotlib-1.1.3-py3-none-any.whl size=4120274 sha256=abdb093bfe33e1f559e119e767050a18ed08ff74080d0eeb3b069290cd989c8c\n",
            "  Stored in directory: /root/.cache/pip/wheels/91/8f/c2/83055ad0c9591b0a094730aa7cb2cc12fedacbcd2241baf534\n",
            "Successfully built japanize_matplotlib\n",
            "Installing collected packages: japanize_matplotlib\n",
            "Successfully installed japanize_matplotlib-1.1.3\n"
          ]
        }
      ]
    },
    {
      "cell_type": "code",
      "source": [
        "import pandas as pd\n",
        "import matplotlib.pyplot as plt\n",
        "import japanize_matplotlib\n",
        "import numpy as np"
      ],
      "metadata": {
        "id": "lyByQFmOF4Pi"
      },
      "execution_count": 17,
      "outputs": []
    },
    {
      "cell_type": "code",
      "execution_count": 4,
      "metadata": {
        "id": "o9q-PUJqFwi5"
      },
      "outputs": [],
      "source": [
        "df = pd.read_csv(\"/content/drive/MyDrive/空き家/FEH_00200522_230330202410.csv\", encoding = \"shift-jis\")"
      ]
    },
    {
      "cell_type": "code",
      "source": [
        "df.head()"
      ],
      "metadata": {
        "colab": {
          "base_uri": "https://localhost:8080/",
          "height": 507
        },
        "id": "FsY8lqpDHNKM",
        "outputId": "7b783722-e44a-4594-c4f3-30523a40726c"
      },
      "execution_count": 5,
      "outputs": [
        {
          "output_type": "execute_result",
          "data": {
            "text/plain": [
              "  表章項目 コード    表章項目  時間軸(年次) コード 時間軸(年次)  地域 コード   地域  /居住世帯の有無          総数  \\\n",
              "0  01-2018  住宅数【戸】   2018000000   2018年       0   全国       NaN  62,407,400   \n",
              "1  01-2018  住宅数【戸】   2018000000   2018年    1000  北海道       NaN   2,807,200   \n",
              "2  01-2018  住宅数【戸】   2018000000   2018年    1100  札幌市       NaN   1,051,400   \n",
              "3  01-2018  住宅数【戸】   2018000000   2018年    2000  青森県       NaN     592,400   \n",
              "4  01-2018  住宅数【戸】   2018000000   2018年    3000  岩手県       NaN     579,300   \n",
              "\n",
              "       居住世帯あり      同居世帯なし  ...     居住世帯なし  一時現在者のみ        空き家    二次的住宅  \\\n",
              "0  53,616,300  53,330,100  ...  8,791,100  216,700  8,488,600  381,000   \n",
              "1   2,416,700   2,400,700  ...    390,500    5,200    379,800    8,900   \n",
              "2     920,900     914,300  ...    130,500    1,200    125,400    2,100   \n",
              "3     501,500     498,300  ...     91,000    1,700     88,700    2,200   \n",
              "4     483,600     481,800  ...     95,700    1,800     93,500    3,500   \n",
              "\n",
              "        別荘      その他     賃貸用の住宅   売却用の住宅     その他の住宅     建築中  \n",
              "0  260,800  120,100  4,327,200  293,200  3,487,200  85,800  \n",
              "1    5,000    4,000    204,600    9,000    157,300   5,500  \n",
              "2      900    1,200     76,100    2,900     44,300   3,900  \n",
              "3    1,100    1,100     39,200    1,400     45,800     600  \n",
              "4    2,000    1,600     38,600    1,100     50,200     500  \n",
              "\n",
              "[5 rows x 21 columns]"
            ],
            "text/html": [
              "\n",
              "  <div id=\"df-e798e197-f477-4799-a279-aa89b604c570\">\n",
              "    <div class=\"colab-df-container\">\n",
              "      <div>\n",
              "<style scoped>\n",
              "    .dataframe tbody tr th:only-of-type {\n",
              "        vertical-align: middle;\n",
              "    }\n",
              "\n",
              "    .dataframe tbody tr th {\n",
              "        vertical-align: top;\n",
              "    }\n",
              "\n",
              "    .dataframe thead th {\n",
              "        text-align: right;\n",
              "    }\n",
              "</style>\n",
              "<table border=\"1\" class=\"dataframe\">\n",
              "  <thead>\n",
              "    <tr style=\"text-align: right;\">\n",
              "      <th></th>\n",
              "      <th>表章項目 コード</th>\n",
              "      <th>表章項目</th>\n",
              "      <th>時間軸(年次) コード</th>\n",
              "      <th>時間軸(年次)</th>\n",
              "      <th>地域 コード</th>\n",
              "      <th>地域</th>\n",
              "      <th>/居住世帯の有無</th>\n",
              "      <th>総数</th>\n",
              "      <th>居住世帯あり</th>\n",
              "      <th>同居世帯なし</th>\n",
              "      <th>...</th>\n",
              "      <th>居住世帯なし</th>\n",
              "      <th>一時現在者のみ</th>\n",
              "      <th>空き家</th>\n",
              "      <th>二次的住宅</th>\n",
              "      <th>別荘</th>\n",
              "      <th>その他</th>\n",
              "      <th>賃貸用の住宅</th>\n",
              "      <th>売却用の住宅</th>\n",
              "      <th>その他の住宅</th>\n",
              "      <th>建築中</th>\n",
              "    </tr>\n",
              "  </thead>\n",
              "  <tbody>\n",
              "    <tr>\n",
              "      <th>0</th>\n",
              "      <td>01-2018</td>\n",
              "      <td>住宅数【戸】</td>\n",
              "      <td>2018000000</td>\n",
              "      <td>2018年</td>\n",
              "      <td>0</td>\n",
              "      <td>全国</td>\n",
              "      <td>NaN</td>\n",
              "      <td>62,407,400</td>\n",
              "      <td>53,616,300</td>\n",
              "      <td>53,330,100</td>\n",
              "      <td>...</td>\n",
              "      <td>8,791,100</td>\n",
              "      <td>216,700</td>\n",
              "      <td>8,488,600</td>\n",
              "      <td>381,000</td>\n",
              "      <td>260,800</td>\n",
              "      <td>120,100</td>\n",
              "      <td>4,327,200</td>\n",
              "      <td>293,200</td>\n",
              "      <td>3,487,200</td>\n",
              "      <td>85,800</td>\n",
              "    </tr>\n",
              "    <tr>\n",
              "      <th>1</th>\n",
              "      <td>01-2018</td>\n",
              "      <td>住宅数【戸】</td>\n",
              "      <td>2018000000</td>\n",
              "      <td>2018年</td>\n",
              "      <td>1000</td>\n",
              "      <td>北海道</td>\n",
              "      <td>NaN</td>\n",
              "      <td>2,807,200</td>\n",
              "      <td>2,416,700</td>\n",
              "      <td>2,400,700</td>\n",
              "      <td>...</td>\n",
              "      <td>390,500</td>\n",
              "      <td>5,200</td>\n",
              "      <td>379,800</td>\n",
              "      <td>8,900</td>\n",
              "      <td>5,000</td>\n",
              "      <td>4,000</td>\n",
              "      <td>204,600</td>\n",
              "      <td>9,000</td>\n",
              "      <td>157,300</td>\n",
              "      <td>5,500</td>\n",
              "    </tr>\n",
              "    <tr>\n",
              "      <th>2</th>\n",
              "      <td>01-2018</td>\n",
              "      <td>住宅数【戸】</td>\n",
              "      <td>2018000000</td>\n",
              "      <td>2018年</td>\n",
              "      <td>1100</td>\n",
              "      <td>札幌市</td>\n",
              "      <td>NaN</td>\n",
              "      <td>1,051,400</td>\n",
              "      <td>920,900</td>\n",
              "      <td>914,300</td>\n",
              "      <td>...</td>\n",
              "      <td>130,500</td>\n",
              "      <td>1,200</td>\n",
              "      <td>125,400</td>\n",
              "      <td>2,100</td>\n",
              "      <td>900</td>\n",
              "      <td>1,200</td>\n",
              "      <td>76,100</td>\n",
              "      <td>2,900</td>\n",
              "      <td>44,300</td>\n",
              "      <td>3,900</td>\n",
              "    </tr>\n",
              "    <tr>\n",
              "      <th>3</th>\n",
              "      <td>01-2018</td>\n",
              "      <td>住宅数【戸】</td>\n",
              "      <td>2018000000</td>\n",
              "      <td>2018年</td>\n",
              "      <td>2000</td>\n",
              "      <td>青森県</td>\n",
              "      <td>NaN</td>\n",
              "      <td>592,400</td>\n",
              "      <td>501,500</td>\n",
              "      <td>498,300</td>\n",
              "      <td>...</td>\n",
              "      <td>91,000</td>\n",
              "      <td>1,700</td>\n",
              "      <td>88,700</td>\n",
              "      <td>2,200</td>\n",
              "      <td>1,100</td>\n",
              "      <td>1,100</td>\n",
              "      <td>39,200</td>\n",
              "      <td>1,400</td>\n",
              "      <td>45,800</td>\n",
              "      <td>600</td>\n",
              "    </tr>\n",
              "    <tr>\n",
              "      <th>4</th>\n",
              "      <td>01-2018</td>\n",
              "      <td>住宅数【戸】</td>\n",
              "      <td>2018000000</td>\n",
              "      <td>2018年</td>\n",
              "      <td>3000</td>\n",
              "      <td>岩手県</td>\n",
              "      <td>NaN</td>\n",
              "      <td>579,300</td>\n",
              "      <td>483,600</td>\n",
              "      <td>481,800</td>\n",
              "      <td>...</td>\n",
              "      <td>95,700</td>\n",
              "      <td>1,800</td>\n",
              "      <td>93,500</td>\n",
              "      <td>3,500</td>\n",
              "      <td>2,000</td>\n",
              "      <td>1,600</td>\n",
              "      <td>38,600</td>\n",
              "      <td>1,100</td>\n",
              "      <td>50,200</td>\n",
              "      <td>500</td>\n",
              "    </tr>\n",
              "  </tbody>\n",
              "</table>\n",
              "<p>5 rows × 21 columns</p>\n",
              "</div>\n",
              "      <button class=\"colab-df-convert\" onclick=\"convertToInteractive('df-e798e197-f477-4799-a279-aa89b604c570')\"\n",
              "              title=\"Convert this dataframe to an interactive table.\"\n",
              "              style=\"display:none;\">\n",
              "        \n",
              "  <svg xmlns=\"http://www.w3.org/2000/svg\" height=\"24px\"viewBox=\"0 0 24 24\"\n",
              "       width=\"24px\">\n",
              "    <path d=\"M0 0h24v24H0V0z\" fill=\"none\"/>\n",
              "    <path d=\"M18.56 5.44l.94 2.06.94-2.06 2.06-.94-2.06-.94-.94-2.06-.94 2.06-2.06.94zm-11 1L8.5 8.5l.94-2.06 2.06-.94-2.06-.94L8.5 2.5l-.94 2.06-2.06.94zm10 10l.94 2.06.94-2.06 2.06-.94-2.06-.94-.94-2.06-.94 2.06-2.06.94z\"/><path d=\"M17.41 7.96l-1.37-1.37c-.4-.4-.92-.59-1.43-.59-.52 0-1.04.2-1.43.59L10.3 9.45l-7.72 7.72c-.78.78-.78 2.05 0 2.83L4 21.41c.39.39.9.59 1.41.59.51 0 1.02-.2 1.41-.59l7.78-7.78 2.81-2.81c.8-.78.8-2.07 0-2.86zM5.41 20L4 18.59l7.72-7.72 1.47 1.35L5.41 20z\"/>\n",
              "  </svg>\n",
              "      </button>\n",
              "      \n",
              "  <style>\n",
              "    .colab-df-container {\n",
              "      display:flex;\n",
              "      flex-wrap:wrap;\n",
              "      gap: 12px;\n",
              "    }\n",
              "\n",
              "    .colab-df-convert {\n",
              "      background-color: #E8F0FE;\n",
              "      border: none;\n",
              "      border-radius: 50%;\n",
              "      cursor: pointer;\n",
              "      display: none;\n",
              "      fill: #1967D2;\n",
              "      height: 32px;\n",
              "      padding: 0 0 0 0;\n",
              "      width: 32px;\n",
              "    }\n",
              "\n",
              "    .colab-df-convert:hover {\n",
              "      background-color: #E2EBFA;\n",
              "      box-shadow: 0px 1px 2px rgba(60, 64, 67, 0.3), 0px 1px 3px 1px rgba(60, 64, 67, 0.15);\n",
              "      fill: #174EA6;\n",
              "    }\n",
              "\n",
              "    [theme=dark] .colab-df-convert {\n",
              "      background-color: #3B4455;\n",
              "      fill: #D2E3FC;\n",
              "    }\n",
              "\n",
              "    [theme=dark] .colab-df-convert:hover {\n",
              "      background-color: #434B5C;\n",
              "      box-shadow: 0px 1px 3px 1px rgba(0, 0, 0, 0.15);\n",
              "      filter: drop-shadow(0px 1px 2px rgba(0, 0, 0, 0.3));\n",
              "      fill: #FFFFFF;\n",
              "    }\n",
              "  </style>\n",
              "\n",
              "      <script>\n",
              "        const buttonEl =\n",
              "          document.querySelector('#df-e798e197-f477-4799-a279-aa89b604c570 button.colab-df-convert');\n",
              "        buttonEl.style.display =\n",
              "          google.colab.kernel.accessAllowed ? 'block' : 'none';\n",
              "\n",
              "        async function convertToInteractive(key) {\n",
              "          const element = document.querySelector('#df-e798e197-f477-4799-a279-aa89b604c570');\n",
              "          const dataTable =\n",
              "            await google.colab.kernel.invokeFunction('convertToInteractive',\n",
              "                                                     [key], {});\n",
              "          if (!dataTable) return;\n",
              "\n",
              "          const docLinkHtml = 'Like what you see? Visit the ' +\n",
              "            '<a target=\"_blank\" href=https://colab.research.google.com/notebooks/data_table.ipynb>data table notebook</a>'\n",
              "            + ' to learn more about interactive tables.';\n",
              "          element.innerHTML = '';\n",
              "          dataTable['output_type'] = 'display_data';\n",
              "          await google.colab.output.renderOutput(dataTable, element);\n",
              "          const docLink = document.createElement('div');\n",
              "          docLink.innerHTML = docLinkHtml;\n",
              "          element.appendChild(docLink);\n",
              "        }\n",
              "      </script>\n",
              "    </div>\n",
              "  </div>\n",
              "  "
            ]
          },
          "metadata": {},
          "execution_count": 5
        }
      ]
    },
    {
      "cell_type": "code",
      "source": [
        "# 分析で使うデータのみ抽出\n",
        "df1 = df.iloc[1:, 8:]"
      ],
      "metadata": {
        "id": "mC4x3zmoHNp0"
      },
      "execution_count": 6,
      "outputs": []
    },
    {
      "cell_type": "code",
      "source": [
        "x = df1.drop('空き家', axis=1)"
      ],
      "metadata": {
        "id": "3IwqAsi3HRDk"
      },
      "execution_count": 7,
      "outputs": []
    },
    {
      "cell_type": "code",
      "source": [
        "x.head()"
      ],
      "metadata": {
        "colab": {
          "base_uri": "https://localhost:8080/",
          "height": 250
        },
        "id": "1Un9FpgiHWxp",
        "outputId": "77745687-759b-4eef-a63d-17d3606c2695"
      },
      "execution_count": 8,
      "outputs": [
        {
          "output_type": "execute_result",
          "data": {
            "text/plain": [
              "      居住世帯あり     同居世帯なし  同居世帯あり   居住世帯なし 一時現在者のみ  二次的住宅     別荘    その他  \\\n",
              "1  2,416,700  2,400,700  16,000  390,500   5,200  8,900  5,000  4,000   \n",
              "2    920,900    914,300   6,600  130,500   1,200  2,100    900  1,200   \n",
              "3    501,500    498,300   3,200   91,000   1,700  2,200  1,100  1,100   \n",
              "4    483,600    481,800   1,800   95,700   1,800  3,500  2,000  1,600   \n",
              "5    953,600    950,000   3,500  135,700   3,400  3,700  2,000  1,800   \n",
              "\n",
              "    賃貸用の住宅 売却用の住宅   その他の住宅    建築中  \n",
              "1  204,600  9,000  157,300  5,500  \n",
              "2   76,100  2,900   44,300  3,900  \n",
              "3   39,200  1,400   45,800    600  \n",
              "4   38,600  1,100   50,200    500  \n",
              "5   72,700  3,600   50,400  1,800  "
            ],
            "text/html": [
              "\n",
              "  <div id=\"df-a21150ba-8cb1-4afd-8a04-e59c0513125e\">\n",
              "    <div class=\"colab-df-container\">\n",
              "      <div>\n",
              "<style scoped>\n",
              "    .dataframe tbody tr th:only-of-type {\n",
              "        vertical-align: middle;\n",
              "    }\n",
              "\n",
              "    .dataframe tbody tr th {\n",
              "        vertical-align: top;\n",
              "    }\n",
              "\n",
              "    .dataframe thead th {\n",
              "        text-align: right;\n",
              "    }\n",
              "</style>\n",
              "<table border=\"1\" class=\"dataframe\">\n",
              "  <thead>\n",
              "    <tr style=\"text-align: right;\">\n",
              "      <th></th>\n",
              "      <th>居住世帯あり</th>\n",
              "      <th>同居世帯なし</th>\n",
              "      <th>同居世帯あり</th>\n",
              "      <th>居住世帯なし</th>\n",
              "      <th>一時現在者のみ</th>\n",
              "      <th>二次的住宅</th>\n",
              "      <th>別荘</th>\n",
              "      <th>その他</th>\n",
              "      <th>賃貸用の住宅</th>\n",
              "      <th>売却用の住宅</th>\n",
              "      <th>その他の住宅</th>\n",
              "      <th>建築中</th>\n",
              "    </tr>\n",
              "  </thead>\n",
              "  <tbody>\n",
              "    <tr>\n",
              "      <th>1</th>\n",
              "      <td>2,416,700</td>\n",
              "      <td>2,400,700</td>\n",
              "      <td>16,000</td>\n",
              "      <td>390,500</td>\n",
              "      <td>5,200</td>\n",
              "      <td>8,900</td>\n",
              "      <td>5,000</td>\n",
              "      <td>4,000</td>\n",
              "      <td>204,600</td>\n",
              "      <td>9,000</td>\n",
              "      <td>157,300</td>\n",
              "      <td>5,500</td>\n",
              "    </tr>\n",
              "    <tr>\n",
              "      <th>2</th>\n",
              "      <td>920,900</td>\n",
              "      <td>914,300</td>\n",
              "      <td>6,600</td>\n",
              "      <td>130,500</td>\n",
              "      <td>1,200</td>\n",
              "      <td>2,100</td>\n",
              "      <td>900</td>\n",
              "      <td>1,200</td>\n",
              "      <td>76,100</td>\n",
              "      <td>2,900</td>\n",
              "      <td>44,300</td>\n",
              "      <td>3,900</td>\n",
              "    </tr>\n",
              "    <tr>\n",
              "      <th>3</th>\n",
              "      <td>501,500</td>\n",
              "      <td>498,300</td>\n",
              "      <td>3,200</td>\n",
              "      <td>91,000</td>\n",
              "      <td>1,700</td>\n",
              "      <td>2,200</td>\n",
              "      <td>1,100</td>\n",
              "      <td>1,100</td>\n",
              "      <td>39,200</td>\n",
              "      <td>1,400</td>\n",
              "      <td>45,800</td>\n",
              "      <td>600</td>\n",
              "    </tr>\n",
              "    <tr>\n",
              "      <th>4</th>\n",
              "      <td>483,600</td>\n",
              "      <td>481,800</td>\n",
              "      <td>1,800</td>\n",
              "      <td>95,700</td>\n",
              "      <td>1,800</td>\n",
              "      <td>3,500</td>\n",
              "      <td>2,000</td>\n",
              "      <td>1,600</td>\n",
              "      <td>38,600</td>\n",
              "      <td>1,100</td>\n",
              "      <td>50,200</td>\n",
              "      <td>500</td>\n",
              "    </tr>\n",
              "    <tr>\n",
              "      <th>5</th>\n",
              "      <td>953,600</td>\n",
              "      <td>950,000</td>\n",
              "      <td>3,500</td>\n",
              "      <td>135,700</td>\n",
              "      <td>3,400</td>\n",
              "      <td>3,700</td>\n",
              "      <td>2,000</td>\n",
              "      <td>1,800</td>\n",
              "      <td>72,700</td>\n",
              "      <td>3,600</td>\n",
              "      <td>50,400</td>\n",
              "      <td>1,800</td>\n",
              "    </tr>\n",
              "  </tbody>\n",
              "</table>\n",
              "</div>\n",
              "      <button class=\"colab-df-convert\" onclick=\"convertToInteractive('df-a21150ba-8cb1-4afd-8a04-e59c0513125e')\"\n",
              "              title=\"Convert this dataframe to an interactive table.\"\n",
              "              style=\"display:none;\">\n",
              "        \n",
              "  <svg xmlns=\"http://www.w3.org/2000/svg\" height=\"24px\"viewBox=\"0 0 24 24\"\n",
              "       width=\"24px\">\n",
              "    <path d=\"M0 0h24v24H0V0z\" fill=\"none\"/>\n",
              "    <path d=\"M18.56 5.44l.94 2.06.94-2.06 2.06-.94-2.06-.94-.94-2.06-.94 2.06-2.06.94zm-11 1L8.5 8.5l.94-2.06 2.06-.94-2.06-.94L8.5 2.5l-.94 2.06-2.06.94zm10 10l.94 2.06.94-2.06 2.06-.94-2.06-.94-.94-2.06-.94 2.06-2.06.94z\"/><path d=\"M17.41 7.96l-1.37-1.37c-.4-.4-.92-.59-1.43-.59-.52 0-1.04.2-1.43.59L10.3 9.45l-7.72 7.72c-.78.78-.78 2.05 0 2.83L4 21.41c.39.39.9.59 1.41.59.51 0 1.02-.2 1.41-.59l7.78-7.78 2.81-2.81c.8-.78.8-2.07 0-2.86zM5.41 20L4 18.59l7.72-7.72 1.47 1.35L5.41 20z\"/>\n",
              "  </svg>\n",
              "      </button>\n",
              "      \n",
              "  <style>\n",
              "    .colab-df-container {\n",
              "      display:flex;\n",
              "      flex-wrap:wrap;\n",
              "      gap: 12px;\n",
              "    }\n",
              "\n",
              "    .colab-df-convert {\n",
              "      background-color: #E8F0FE;\n",
              "      border: none;\n",
              "      border-radius: 50%;\n",
              "      cursor: pointer;\n",
              "      display: none;\n",
              "      fill: #1967D2;\n",
              "      height: 32px;\n",
              "      padding: 0 0 0 0;\n",
              "      width: 32px;\n",
              "    }\n",
              "\n",
              "    .colab-df-convert:hover {\n",
              "      background-color: #E2EBFA;\n",
              "      box-shadow: 0px 1px 2px rgba(60, 64, 67, 0.3), 0px 1px 3px 1px rgba(60, 64, 67, 0.15);\n",
              "      fill: #174EA6;\n",
              "    }\n",
              "\n",
              "    [theme=dark] .colab-df-convert {\n",
              "      background-color: #3B4455;\n",
              "      fill: #D2E3FC;\n",
              "    }\n",
              "\n",
              "    [theme=dark] .colab-df-convert:hover {\n",
              "      background-color: #434B5C;\n",
              "      box-shadow: 0px 1px 3px 1px rgba(0, 0, 0, 0.15);\n",
              "      filter: drop-shadow(0px 1px 2px rgba(0, 0, 0, 0.3));\n",
              "      fill: #FFFFFF;\n",
              "    }\n",
              "  </style>\n",
              "\n",
              "      <script>\n",
              "        const buttonEl =\n",
              "          document.querySelector('#df-a21150ba-8cb1-4afd-8a04-e59c0513125e button.colab-df-convert');\n",
              "        buttonEl.style.display =\n",
              "          google.colab.kernel.accessAllowed ? 'block' : 'none';\n",
              "\n",
              "        async function convertToInteractive(key) {\n",
              "          const element = document.querySelector('#df-a21150ba-8cb1-4afd-8a04-e59c0513125e');\n",
              "          const dataTable =\n",
              "            await google.colab.kernel.invokeFunction('convertToInteractive',\n",
              "                                                     [key], {});\n",
              "          if (!dataTable) return;\n",
              "\n",
              "          const docLinkHtml = 'Like what you see? Visit the ' +\n",
              "            '<a target=\"_blank\" href=https://colab.research.google.com/notebooks/data_table.ipynb>data table notebook</a>'\n",
              "            + ' to learn more about interactive tables.';\n",
              "          element.innerHTML = '';\n",
              "          dataTable['output_type'] = 'display_data';\n",
              "          await google.colab.output.renderOutput(dataTable, element);\n",
              "          const docLink = document.createElement('div');\n",
              "          docLink.innerHTML = docLinkHtml;\n",
              "          element.appendChild(docLink);\n",
              "        }\n",
              "      </script>\n",
              "    </div>\n",
              "  </div>\n",
              "  "
            ]
          },
          "metadata": {},
          "execution_count": 8
        }
      ]
    },
    {
      "cell_type": "markdown",
      "source": [
        "#グラフ化\n"
      ],
      "metadata": {
        "id": "8Jys38jSHadj"
      }
    },
    {
      "cell_type": "markdown",
      "source": [
        "空き家_0412.ipynbで出した寄与率  \n",
        "0.06317101, 0.10036158, 0.06062377, 0.3748963 , 0.01712462,\n",
        "       0.00277928, 0.00435432, 0.09029612, 0.15046779, 0.07256208,\n",
        "       0.05826125, 0.00510188"
      ],
      "metadata": {
        "id": "RcXCXtQ0Goyu"
      }
    },
    {
      "cell_type": "code",
      "source": [
        "x.columns.values"
      ],
      "metadata": {
        "colab": {
          "base_uri": "https://localhost:8080/"
        },
        "id": "RWGKBlAaHX85",
        "outputId": "e4a03404-8256-4524-9242-80a7cc3a9385"
      },
      "execution_count": 9,
      "outputs": [
        {
          "output_type": "execute_result",
          "data": {
            "text/plain": [
              "array(['居住世帯あり', '同居世帯なし', '同居世帯あり', '居住世帯なし', '一時現在者のみ', '二次的住宅', '別荘',\n",
              "       'その他', '賃貸用の住宅', '売却用の住宅', 'その他の住宅', '建築中'], dtype=object)"
            ]
          },
          "metadata": {},
          "execution_count": 9
        }
      ]
    },
    {
      "cell_type": "code",
      "source": [
        "x_data = list(x.columns.values)"
      ],
      "metadata": {
        "id": "nyoXXVBwH5Z6"
      },
      "execution_count": 11,
      "outputs": []
    },
    {
      "cell_type": "code",
      "source": [
        "y_data = [0.06317101, 0.10036158, 0.06062377, 0.3748963 , 0.01712462,0.00277928, 0.00435432, 0.09029612, 0.15046779, 0.07256208,0.05826125, 0.00510188]"
      ],
      "metadata": {
        "id": "18-7S95nH8my"
      },
      "execution_count": 12,
      "outputs": []
    },
    {
      "cell_type": "code",
      "source": [
        "plt.figure(figsize=(15, 5))\n",
        "plt.bar(x_data, y_data)\n",
        "plt.show()"
      ],
      "metadata": {
        "colab": {
          "base_uri": "https://localhost:8080/",
          "height": 407
        },
        "id": "Roe521DEIYXm",
        "outputId": "24efdf75-ba8e-4062-fd6d-e887c5421460"
      },
      "execution_count": 21,
      "outputs": [
        {
          "output_type": "display_data",
          "data": {
            "text/plain": [
              "<Figure size 1500x500 with 1 Axes>"
            ],
            "image/png": "[encoded data removed]"
          },
          "metadata": {}
        }
      ]
    },
    {
      "cell_type": "code",
      "source": [],
      "metadata": {
        "id": "9Ng8GRZXLcYP"
      },
      "execution_count": null,
      "outputs": []
    }
  ]
}